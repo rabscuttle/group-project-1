{
 "cells": [
  {
   "cell_type": "code",
   "execution_count": null,
   "metadata": {},
   "outputs": [],
   "source": [
    "# Import needed stuff\n",
    "import numpy as np\n",
    "import pandas as pd\n",
    "import matplotlib.pyplot as plt\n",
    "import requests\n",
    "from config import census_api_key\n",
    "from census import Census\n",
    "from scipy.stats import linregress"
   ]
  },
  {
   "cell_type": "code",
   "execution_count": null,
   "metadata": {},
   "outputs": [],
   "source": [
    "merged_census_MDE_df=pd.read_csv(\"Merged_MDE_Census_data.csv\")\n"
   ]
  },
  {
   "cell_type": "code",
   "execution_count": null,
   "metadata": {},
   "outputs": [],
   "source": [
    "# Part I Start\n",
    "# Function to create Linear Regression plots\n",
    "percentsped = []\n",
    "y_values = []\n",
    "def linearregression(percentsped): \n",
    "    x_axis = percentsped\n",
    "    y_axis = y_values \n",
    "    \n",
    "    (slope, intercept, rvalue, pvalue, stderr) = linregress(x_axis, y_axis)\n",
    "    regress_values = x_axis * slope + intercept\n",
    "    line_eq = \"y = \" + str(round(slope,2)) + \"x + \" + str(round(intercept,2))\n",
    "\n",
    "    plt.scatter(x_axis, y_axis, marker=\"p\", facecolors=\"blue\", edgecolors=\"black\",\n",
    "            s=x_axis, alpha=0.75)\n",
    "    plt.plot(x_axis,regress_values,\"r-\")\n",
    "    plt.annotate(line_eq,(1,25),fontsize=18,color=\"red\")\n",
    "\n",
    "    plt.scatter(x_axis, y_axis, marker=\"p\", facecolors=\"blue\", edgecolors=\"black\",alpha=0.75)"
   ]
  },
  {
   "cell_type": "code",
   "execution_count": null,
   "metadata": {},
   "outputs": [],
   "source": [
    "percentsped = merged_census_MDE_df['Percent of Students Receiving Special Education Services']\n",
    "y_values = merged_census_MDE_df['Percent in Poverty']\n",
    "\n",
    "linearregression(percentsped)\n",
    "\n",
    "\n",
    "plt.title(\"Percent of Popluation Living in Poverty vs. Percent of Students Receiving Special Education Services\")\n",
    "plt.xlabel(\"% of Students Recieving Special Education Services\")\n",
    "plt.ylabel(\"% of Popluation Living in Poverty\")\n",
    "plt.show()"
   ]
  },
  {
   "cell_type": "code",
   "execution_count": null,
   "metadata": {},
   "outputs": [],
   "source": [
    "percentsped = merged_census_MDE_df['Percent of Students Receiving Special Education Services']\n",
    "y_values = merged_census_MDE_df['Population']\n",
    "\n",
    "linearregression(percentsped)\n",
    "\n",
    "\n",
    "plt.title(\"District Total Population vs. Percent of Students Receiving Special Education Services\")\n",
    "plt.xlabel(\"% of Students Receiving Special Education Services\")\n",
    "plt.ylabel(\"District Total Population\")\n",
    "plt.show()"
   ]
  },
  {
   "cell_type": "code",
   "execution_count": null,
   "metadata": {},
   "outputs": [],
   "source": [
    "percentsped = merged_census_MDE_df['Percent of Students Receiving Special Education Services']\n",
    "y_values = merged_census_MDE_df['Percent of Students of Color or American Indian']\n",
    "\n",
    "linearregression(percentsped)\n",
    "\n",
    "\n",
    "plt.title(\"Percent of Students of Color or American Indian vs. Percent of Students Receiving Special Education Services\")\n",
    "plt.xlabel(\"% of Students Receiving Special Education Services\")\n",
    "plt.ylabel(\"% of Students of Color or American Indian\")\n",
    "plt.show()"
   ]
  },
  {
   "cell_type": "code",
   "execution_count": null,
   "metadata": {},
   "outputs": [],
   "source": [
    "# Part I End"
   ]
  },
  {
   "cell_type": "code",
   "execution_count": null,
   "metadata": {},
   "outputs": [],
   "source": [
    "# Part II Start"
   ]
  },
  {
   "cell_type": "code",
   "execution_count": null,
   "metadata": {},
   "outputs": [],
   "source": [
    "# Part II End"
   ]
  },
  {
   "cell_type": "code",
   "execution_count": null,
   "metadata": {},
   "outputs": [],
   "source": [
    "# Part III Start"
   ]
  },
  {
   "cell_type": "code",
   "execution_count": null,
   "metadata": {},
   "outputs": [],
   "source": [
    "# Part III End"
   ]
  },
  {
   "cell_type": "code",
   "execution_count": null,
   "metadata": {},
   "outputs": [],
   "source": [
    "# Part IV Start"
   ]
  },
  {
   "cell_type": "code",
   "execution_count": null,
   "metadata": {},
   "outputs": [],
   "source": [
    "# Part IV End"
   ]
  }
 ],
 "metadata": {
  "kernelspec": {
   "display_name": "Python 3",
   "language": "python",
   "name": "python3"
  },
  "language_info": {
   "codemirror_mode": {
    "name": "ipython",
    "version": 3
   },
   "file_extension": ".py",
   "mimetype": "text/x-python",
   "name": "python",
   "nbconvert_exporter": "python",
   "pygments_lexer": "ipython3",
   "version": "3.6.10"
  }
 },
 "nbformat": 4,
 "nbformat_minor": 4
}
