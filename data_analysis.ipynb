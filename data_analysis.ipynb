{
 "cells": [
  {
   "cell_type": "code",
   "execution_count": null,
   "metadata": {},
   "outputs": [],
   "source": [
    "# Import needed stuff\n",
    "import numpy as np\n",
    "import pandas as pd\n",
    "import matplotlib.pyplot as plt\n",
    "import requests\n",
    "from config import census_api_key\n",
    "from census import Census\n",
    "from scipy.stats import linregress"
   ]
  },
  {
   "cell_type": "code",
   "execution_count": null,
   "metadata": {},
   "outputs": [],
   "source": [
    "# Get the data from the MDE data available on MDE's website\n",
    "MDE_data = pd.read_csv(\"MDE_Data.csv\")\n",
    "MDE_data"
   ]
  },
  {
   "cell_type": "code",
   "execution_count": null,
   "metadata": {},
   "outputs": [],
   "source": [
    "census_response = []\n",
    "\n",
    "# Get the census population and poverty data for school districts in minnesota\n",
    "url = f\"https://api.census.gov/data/2018/acs/acs5?get=NAME,B01003_001E,B17001_002E&for=school%20district%20(unified):*&in=state:27&key={census_api_key}\"\n",
    "try:\n",
    "    census_response = requests.get(url).json()\n",
    "except:\n",
    "    pass\n",
    "\n",
    "# Put results in a data from and drop the first row with headers\n",
    "census_response_df = pd.DataFrame(census_response)\n",
    "census_response_df = census_response_df.drop([0])\n",
    "\n",
    "# Rename the columns\n",
    "census_response_df = census_response_df.rename(columns = {0:\"School District\", 1:\"Population\", 2:\"Poverty\", 3: \"State Number\", 4:\"Census School Number\"})\n",
    "\n",
    "# Strip off Minnesota from school district names so we can merge with MDE data\n",
    "census_response_df[\"School District\"] = census_response_df[\"School District\"].str.replace(', Minnesota', '')\n",
    "\n",
    "# Just pull the data we are interested in\n",
    "clean_census_data = census_response_df.loc[:,[\"School District\", \"Population\", \"Poverty\", \"Census School Number\"]]\n",
    "clean_census_data.to_csv(\"Census_data.csv\", index=False)\n",
    "clean_census_data"
   ]
  },
  {
   "cell_type": "code",
   "execution_count": null,
   "metadata": {},
   "outputs": [],
   "source": [
    "# Merge the two data frames on the school district name.\n",
    "merged_census_MDE_df = pd.merge(MDE_data, clean_census_data, right_on = 'School District', left_on = 'District Name')\n",
    "\n",
    "merged_census_MDE_df"
   ]
  },
  {
   "cell_type": "code",
   "execution_count": null,
   "metadata": {},
   "outputs": [],
   "source": [
    "# Rename Columns\n",
    "merged_census_MDE_df.rename(columns={'Total Students of Color or American Indian Percent': 'Percent of Students of Color or American Indian', 'Total Students Receiving Special Education Services Percent': 'Percent of Students Receiving Special Education Services'}, inplace=True)\n",
    "\n",
    "# Strip off % symbol so we can change to float\n",
    "merged_census_MDE_df['Percent of Students of Color or American Indian'] = merged_census_MDE_df['Percent of Students of Color or American Indian'].str.replace('%', '')\n",
    "merged_census_MDE_df['Percent of Students Receiving Special Education Services'] = merged_census_MDE_df['Percent of Students Receiving Special Education Services'].str.replace('%', '')\n",
    "\n",
    "# Changed Type\n",
    "merged_census_MDE_df['Poverty'] = merged_census_MDE_df['Poverty'].astype(int)\n",
    "merged_census_MDE_df['Population'] = merged_census_MDE_df['Population'].astype(int)\n",
    "merged_census_MDE_df['Percent of Students of Color or American Indian'] = merged_census_MDE_df['Percent of Students of Color or American Indian'].astype(float)\n",
    "\n",
    "# Calculate Percent of Population Living in Poverty\n",
    "merged_census_MDE_df['Percent in Poverty'] = ((merged_census_MDE_df['Poverty'] / merged_census_MDE_df['Population'])*100).astype(float).round(2)\n"
   ]
  },
  {
   "cell_type": "code",
   "execution_count": null,
   "metadata": {},
   "outputs": [],
   "source": [
    "# Construct final dataframe and export as csv\n",
    "merged_census_MDE_df['Percent of Students Receiving Special Education Services'] = merged_census_MDE_df['Percent of Students Receiving Special Education Services'].astype(float)\n",
    "\n",
    "merged_census_MDE_df.to_csv(\"Merged_MDE_Census_data.csv\", index=False)\n",
    "merged_census_MDE_df"
   ]
  }
 ],
 "metadata": {
  "kernelspec": {
   "display_name": "Python 3",
   "language": "python",
   "name": "python3"
  },
  "language_info": {
   "codemirror_mode": {
    "name": "ipython",
    "version": 3
   },
   "file_extension": ".py",
   "mimetype": "text/x-python",
   "name": "python",
   "nbconvert_exporter": "python",
   "pygments_lexer": "ipython3",
   "version": "3.6.10"
  }
 },
 "nbformat": 4,
 "nbformat_minor": 4
}
