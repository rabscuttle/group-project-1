{
 "cells": [
  {
   "cell_type": "code",
   "execution_count": null,
   "metadata": {},
   "outputs": [],
   "source": [
    "# Import needed stuff\n",
    "import numpy as np\n",
    "import pandas as pd\n",
    "import matplotlib.pyplot as plt\n",
    "import scipy.stats as st\n",
    "from scipy.stats import linregress"
   ]
  },
  {
   "cell_type": "code",
   "execution_count": null,
   "metadata": {},
   "outputs": [],
   "source": [
    "# Get the merged data we created in our data analysis\n",
    "merged_census_MDE_df = pd.read_csv(\"Merged_MDE_Census_data.csv\")"
   ]
  },
  {
   "cell_type": "code",
   "execution_count": null,
   "metadata": {},
   "outputs": [],
   "source": [
    "# Function to create Linear Regression plots\n",
    "x_values = []\n",
    "y_values = []\n",
    "\n",
    "def linearregression(x_values): \n",
    "    x_axis = x_values\n",
    "    y_axis = y_values \n",
    "    \n",
    "    correlation = st.pearsonr(y_axis, x_axis)\n",
    "    \n",
    "    (slope, intercept, rvalue, pvalue, stderr) = linregress(x_axis, y_axis)\n",
    "    regress_values = x_axis * slope + intercept\n",
    "    line_eq = \"y = \" + str(round(slope,2)) + \"x + \" + str(round(intercept,2))\n",
    "\n",
    "    plt.scatter(x_axis, y_axis, marker=\"p\", facecolors=\"blue\", edgecolors=\"black\",\n",
    "            s=y_axis, alpha=0.75)\n",
    "    plt.plot(x_axis,regress_values,\"r-\")\n",
    "    plt.annotate(line_eq,(1,30),fontsize=18,color=\"red\")\n",
    "    \n",
    "    correlation_matrix = np.corrcoef(x_axis, y_axis)\n",
    "    correlation_xy = correlation_matrix[0,1]\n",
    "    r_squared = correlation_xy**2\n",
    "\n",
    "    print(f\"The r-squared is: {round(r_squared,5)}\")\n",
    "    print(f\"The correlation is: {round(correlation[0],2)}\")"
   ]
  },
  {
   "cell_type": "code",
   "execution_count": null,
   "metadata": {},
   "outputs": [],
   "source": [
    "y_values = merged_census_MDE_df['Percent of Students Receiving Special Education Services']\n",
    "x_values = merged_census_MDE_df['Percent in Poverty']\n",
    "\n",
    "linearregression(x_values)\n",
    "\n",
    "plt.title(\"% Students Receiving SpEd Services vs % Population Living in Poverty\")\n",
    "plt.ylabel(\"% Students Receiving SpEd Services\")\n",
    "plt.xlabel(\"% Population Living in Poverty\")\n",
    "plt.show()"
   ]
  },
  {
   "cell_type": "code",
   "execution_count": null,
   "metadata": {},
   "outputs": [],
   "source": [
    "y_values = merged_census_MDE_df['Percent of Students Receiving Special Education Services']\n",
    "x_values = merged_census_MDE_df['Population']\n",
    "\n",
    "linearregression(x_values)\n",
    "\n",
    "plt.title(\"District Population vs % Students Receiving SpEd Services\")\n",
    "plt.ylabel(\"% Students Receiving SpEd Services\")\n",
    "plt.xlabel(\"District Population\")\n",
    "plt.show()"
   ]
  },
  {
   "cell_type": "code",
   "execution_count": null,
   "metadata": {},
   "outputs": [],
   "source": [
    "y_values = merged_census_MDE_df['Percent of Students Receiving Special Education Services']\n",
    "x_values = merged_census_MDE_df['Percent of Students of Color or American Indian']\n",
    "\n",
    "linearregression(x_values)\n",
    "\n",
    "plt.title(\"% Students of Color or American Indian vs. % Students Receiving SpEd Services\")\n",
    "plt.ylabel(\"% Students Receiving SpEd Services\")\n",
    "plt.xlabel(\"% Students of Color or American Indian\")\n",
    "plt.show()"
   ]
  },
  {
   "cell_type": "code",
   "execution_count": null,
   "metadata": {},
   "outputs": [],
   "source": [
    "y_values = merged_census_MDE_df['Percent of Students Receiving Special Education Services']\n",
    "x_values = merged_census_MDE_df['Percent English Learner']\n",
    "\n",
    "linearregression(x_values)\n",
    "\n",
    "plt.title(\"% English Learner vs % Students Receiving SpEd Services\")\n",
    "plt.ylabel(\"% Students Receiving SpEd Services\")\n",
    "plt.xlabel(\"% English Learner\")\n",
    "plt.show()"
   ]
  },
  {
   "cell_type": "code",
   "execution_count": null,
   "metadata": {},
   "outputs": [],
   "source": [
    "# Part II Start"
   ]
  },
  {
   "cell_type": "code",
   "execution_count": null,
   "metadata": {},
   "outputs": [],
   "source": [
    "# Part II End"
   ]
  },
  {
   "cell_type": "code",
   "execution_count": null,
   "metadata": {},
   "outputs": [],
   "source": [
    "# Part III Start"
   ]
  },
  {
   "cell_type": "code",
   "execution_count": null,
   "metadata": {},
   "outputs": [],
   "source": [
    "# Part III End"
   ]
  },
  {
   "cell_type": "code",
   "execution_count": null,
   "metadata": {},
   "outputs": [],
   "source": [
    "# Part IV Start"
   ]
  },
  {
   "cell_type": "code",
   "execution_count": null,
   "metadata": {},
   "outputs": [],
   "source": [
    "# Part IV End"
   ]
  }
 ],
 "metadata": {
  "kernelspec": {
   "display_name": "Python 3",
   "language": "python",
   "name": "python3"
  },
  "language_info": {
   "codemirror_mode": {
    "name": "ipython",
    "version": 3
   },
   "file_extension": ".py",
   "mimetype": "text/x-python",
   "name": "python",
   "nbconvert_exporter": "python",
   "pygments_lexer": "ipython3",
   "version": "3.6.10"
  }
 },
 "nbformat": 4,
 "nbformat_minor": 4
}
